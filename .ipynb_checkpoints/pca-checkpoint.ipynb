{
 "cells": [
  {
   "cell_type": "markdown",
   "metadata": {},
   "source": [
    "# 顔画像データの主成分分析による次元圧縮"
   ]
  },
  {
   "cell_type": "code",
   "execution_count": 14,
   "metadata": {},
   "outputs": [],
   "source": [
    "import numpy as np\n",
    "import data\n",
    "import matplotlib.pyplot as plt"
   ]
  },
  {
   "cell_type": "markdown",
   "metadata": {},
   "source": [
    "## 学習データの準備"
   ]
  },
  {
   "cell_type": "code",
   "execution_count": 5,
   "metadata": {},
   "outputs": [
    {
     "name": "stdout",
     "output_type": "stream",
     "text": [
      "# data/lfw-selected\n",
      "# NL = 4000, NT = 1721\n"
     ]
    }
   ],
   "source": [
    "# データ読み込み準備\n",
    "d = data.Data()\n",
    "NL = d.NL  # 学習データの数\n",
    "NT = d.NT  # テストデータの数"
   ]
  },
  {
   "cell_type": "code",
   "execution_count": 6,
   "metadata": {},
   "outputs": [
    {
     "name": "stdout",
     "output_type": "stream",
     "text": [
      "# reading 'L'... (4000, 128, 96, 3)\n",
      "36864\n"
     ]
    }
   ],
   "source": [
    "# 学習データを読み込む\n",
    "XL = d.get('L').reshape(NL, -1)\n",
    "_, D = XL.shape\n",
    "print(D)  # データの次元数"
   ]
  },
  {
   "cell_type": "code",
   "execution_count": 7,
   "metadata": {},
   "outputs": [],
   "source": [
    "# 平均を求め，引いておく\n",
    "Xm = np.mean(XL, axis=0)\n",
    "XL -= Xm\n",
    "# 255 で割る → 要素は 0 から 1の値\n",
    "XL /= 255"
   ]
  },
  {
   "cell_type": "markdown",
   "metadata": {},
   "source": [
    "## 主成分分析\n",
    "(データ数) < (次元数) なので，データ行列の SVD 経由で"
   ]
  },
  {
   "cell_type": "code",
   "execution_count": 25,
   "metadata": {},
   "outputs": [
    {
     "name": "stdout",
     "output_type": "stream",
     "text": [
      "(4000, 4000) (4000,) (4000, 36864)\n",
      "CPU times: user 7min 12s, sys: 9 s, total: 7min 21s\n",
      "Wall time: 1min 17s\n"
     ]
    }
   ],
   "source": [
    "%%time\n",
    "# ↑ このセルの実行時間を測る．数分？\n",
    "\n",
    "# 特異値分解（SVD）\n",
    "U, sval, Vt = np.linalg.svd(XL, full_matrices=False)\n",
    "print(U.shape, sval.shape, V.shape)\n",
    "\n",
    "# この問題設定では，得られる特異値は，データの分散共分散行列の固有値に等しい\n",
    "eva = sval"
   ]
  },
  {
   "cell_type": "code",
   "execution_count": 28,
   "metadata": {},
   "outputs": [
    {
     "data": {
      "image/png": "[encoded data removed]",
      "text/plain": [
       "<Figure size 576x432 with 1 Axes>"
      ]
     },
     "metadata": {},
     "output_type": "display_data"
    }
   ],
   "source": [
    "# 固有値のグラフ．最大固有値を 1 としたものと，寄与率\n",
    "\n",
    "hdim = 1000\n",
    "\n",
    "fig, ax = plt.subplots(facecolor='white', figsize=(8, 6))\n",
    "xx = np.arange(hdim, dtype=int) + 1\n",
    "y1 = eva / eva[0]\n",
    "y2 = np.cumsum(eva)\n",
    "y2 /= y2[-1]\n",
    "ax.plot(xx, y1[:hdim], '-', label = 'y1')\n",
    "ax.plot(xx, y2[:hdim], '-', label = 'y2')\n",
    "plt.show()"
   ]
  },
  {
   "cell_type": "code",
   "execution_count": null,
   "metadata": {},
   "outputs": [],
   "source": []
  }
 ],
 "metadata": {
  "kernelspec": {
   "display_name": "Python 3",
   "language": "python",
   "name": "python3"
  },
  "language_info": {
   "codemirror_mode": {
    "name": "ipython",
    "version": 3
   },
   "file_extension": ".py",
   "mimetype": "text/x-python",
   "name": "python",
   "nbconvert_exporter": "python",
   "pygments_lexer": "ipython3",
   "version": "3.8.5"
  }
 },
 "nbformat": 4,
 "nbformat_minor": 4
}
